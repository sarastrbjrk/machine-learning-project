{
 "cells": [
  {
   "cell_type": "code",
   "execution_count": 1,
   "id": "5025f93c",
   "metadata": {},
   "outputs": [],
   "source": [
    "# Importing libraries\n",
    "import numpy as np\n",
    "import pandas as pd\n",
    "import matplotlib.pyplot as plt\n",
    "import seaborn as sns  \n",
    "from sklearn.linear_model import LogisticRegression\n",
    "from sklearn.neural_network import MLPRegressor\n",
    "from sklearn.metrics import log_loss, precision_score, accuracy_score, confusion_matrix, mean_squared_error  # evaluation metrics\n",
    "\n",
    "from sklearn.datasets import fetch_openml \n",
    "from sklearn.model_selection import train_test_split\n",
    "from sklearn.preprocessing import StandardScaler\n",
    "from sklearn.decomposition import PCA"
   ]
  },
  {
   "cell_type": "code",
   "execution_count": 2,
   "id": "e4be53f6",
   "metadata": {},
   "outputs": [
    {
     "data": {
      "text/html": [
       "<div>\n",
       "<style scoped>\n",
       "    .dataframe tbody tr th:only-of-type {\n",
       "        vertical-align: middle;\n",
       "    }\n",
       "\n",
       "    .dataframe tbody tr th {\n",
       "        vertical-align: top;\n",
       "    }\n",
       "\n",
       "    .dataframe thead th {\n",
       "        text-align: right;\n",
       "    }\n",
       "</style>\n",
       "<table border=\"1\" class=\"dataframe\">\n",
       "  <thead>\n",
       "    <tr style=\"text-align: right;\">\n",
       "      <th></th>\n",
       "      <th>age</th>\n",
       "      <th>hypertension</th>\n",
       "      <th>heart_disease</th>\n",
       "      <th>bmi</th>\n",
       "      <th>smoking_status</th>\n",
       "      <th>stroke</th>\n",
       "    </tr>\n",
       "  </thead>\n",
       "  <tbody>\n",
       "    <tr>\n",
       "      <th>2</th>\n",
       "      <td>80.0</td>\n",
       "      <td>0</td>\n",
       "      <td>1</td>\n",
       "      <td>32.5</td>\n",
       "      <td>0.0</td>\n",
       "      <td>1</td>\n",
       "    </tr>\n",
       "    <tr>\n",
       "      <th>3</th>\n",
       "      <td>49.0</td>\n",
       "      <td>0</td>\n",
       "      <td>0</td>\n",
       "      <td>34.4</td>\n",
       "      <td>1.0</td>\n",
       "      <td>1</td>\n",
       "    </tr>\n",
       "    <tr>\n",
       "      <th>4</th>\n",
       "      <td>79.0</td>\n",
       "      <td>1</td>\n",
       "      <td>0</td>\n",
       "      <td>24.0</td>\n",
       "      <td>0.0</td>\n",
       "      <td>1</td>\n",
       "    </tr>\n",
       "    <tr>\n",
       "      <th>6</th>\n",
       "      <td>74.0</td>\n",
       "      <td>1</td>\n",
       "      <td>1</td>\n",
       "      <td>27.4</td>\n",
       "      <td>0.0</td>\n",
       "      <td>1</td>\n",
       "    </tr>\n",
       "    <tr>\n",
       "      <th>7</th>\n",
       "      <td>69.0</td>\n",
       "      <td>0</td>\n",
       "      <td>0</td>\n",
       "      <td>22.8</td>\n",
       "      <td>0.0</td>\n",
       "      <td>1</td>\n",
       "    </tr>\n",
       "    <tr>\n",
       "      <th>...</th>\n",
       "      <td>...</td>\n",
       "      <td>...</td>\n",
       "      <td>...</td>\n",
       "      <td>...</td>\n",
       "      <td>...</td>\n",
       "      <td>...</td>\n",
       "    </tr>\n",
       "    <tr>\n",
       "      <th>5096</th>\n",
       "      <td>57.0</td>\n",
       "      <td>0</td>\n",
       "      <td>0</td>\n",
       "      <td>28.2</td>\n",
       "      <td>0.0</td>\n",
       "      <td>0</td>\n",
       "    </tr>\n",
       "    <tr>\n",
       "      <th>5100</th>\n",
       "      <td>82.0</td>\n",
       "      <td>1</td>\n",
       "      <td>0</td>\n",
       "      <td>28.3</td>\n",
       "      <td>0.0</td>\n",
       "      <td>0</td>\n",
       "    </tr>\n",
       "    <tr>\n",
       "      <th>5102</th>\n",
       "      <td>57.0</td>\n",
       "      <td>0</td>\n",
       "      <td>0</td>\n",
       "      <td>21.7</td>\n",
       "      <td>0.0</td>\n",
       "      <td>0</td>\n",
       "    </tr>\n",
       "    <tr>\n",
       "      <th>5106</th>\n",
       "      <td>81.0</td>\n",
       "      <td>0</td>\n",
       "      <td>0</td>\n",
       "      <td>40.0</td>\n",
       "      <td>0.0</td>\n",
       "      <td>0</td>\n",
       "    </tr>\n",
       "    <tr>\n",
       "      <th>5107</th>\n",
       "      <td>35.0</td>\n",
       "      <td>0</td>\n",
       "      <td>0</td>\n",
       "      <td>30.6</td>\n",
       "      <td>0.0</td>\n",
       "      <td>0</td>\n",
       "    </tr>\n",
       "  </tbody>\n",
       "</table>\n",
       "<p>2589 rows × 6 columns</p>\n",
       "</div>"
      ],
      "text/plain": [
       "       age  hypertension  heart_disease   bmi  smoking_status  stroke\n",
       "2     80.0             0              1  32.5             0.0       1\n",
       "3     49.0             0              0  34.4             1.0       1\n",
       "4     79.0             1              0  24.0             0.0       1\n",
       "6     74.0             1              1  27.4             0.0       1\n",
       "7     69.0             0              0  22.8             0.0       1\n",
       "...    ...           ...            ...   ...             ...     ...\n",
       "5096  57.0             0              0  28.2             0.0       0\n",
       "5100  82.0             1              0  28.3             0.0       0\n",
       "5102  57.0             0              0  21.7             0.0       0\n",
       "5106  81.0             0              0  40.0             0.0       0\n",
       "5107  35.0             0              0  30.6             0.0       0\n",
       "\n",
       "[2589 rows x 6 columns]"
      ]
     },
     "execution_count": 2,
     "metadata": {},
     "output_type": "execute_result"
    }
   ],
   "source": [
    "# Reading and processing of data points\n",
    "df = pd.read_csv('healthcare-dataset-stroke-data.csv')\n",
    "df.drop(columns=['id', 'gender', 'ever_married','work_type', 'Residence_type', 'avg_glucose_level'], inplace=True)\n",
    "\n",
    "df = df.replace(to_replace=\"smokes\",value=1)\n",
    "df = df.replace(to_replace=\"never smoked\",value=0)\n",
    "df = df.replace(to_replace=\"formerly smoked\",value=np.nan)\n",
    "df = df.replace(to_replace=\"Unknown\",value=np.nan)\n",
    "df = df.dropna(axis = 0) # drop rows with empty values\n",
    "df"
   ]
  },
  {
   "cell_type": "code",
   "execution_count": 3,
   "id": "6169ac6b",
   "metadata": {},
   "outputs": [
    {
     "name": "stderr",
     "output_type": "stream",
     "text": [
      "/opt/software/lib/python3.9/site-packages/seaborn/_decorators.py:36: FutureWarning: Pass the following variable as a keyword arg: x. From version 0.12, the only valid positional argument will be `data`, and passing other arguments without an explicit keyword will result in an error or misinterpretation.\n",
      "  warnings.warn(\n"
     ]
    },
    {
     "data": {
      "text/plain": [
       "<AxesSubplot:xlabel='stroke', ylabel='count'>"
      ]
     },
     "execution_count": 3,
     "metadata": {},
     "output_type": "execute_result"
    },
    {
     "data": {
      "image/png": "[encoded data removed]",
      "text/plain": [
       "<Figure size 432x288 with 1 Axes>"
      ]
     },
     "metadata": {
      "needs_background": "light"
     },
     "output_type": "display_data"
    }
   ],
   "source": [
    "# Visualizations of some attributes\n",
    "sns.countplot(df['stroke'])"
   ]
  },
  {
   "cell_type": "code",
   "execution_count": 4,
   "id": "6866e662",
   "metadata": {},
   "outputs": [
    {
     "data": {
      "image/png": "[encoded data removed]",
      "text/plain": [
       "<Figure size 432x288 with 1 Axes>"
      ]
     },
     "metadata": {
      "needs_background": "light"
     },
     "output_type": "display_data"
    }
   ],
   "source": [
    "sns.violinplot(y='age', x='stroke', data=df, inner='quartile')\n",
    "plt.show()"
   ]
  },
  {
   "cell_type": "code",
   "execution_count": 5,
   "id": "5dad4920",
   "metadata": {},
   "outputs": [
    {
     "data": {
      "image/png": "[encoded data removed]",
      "text/plain": [
       "<Figure size 720x432 with 2 Axes>"
      ]
     },
     "metadata": {
      "needs_background": "light"
     },
     "output_type": "display_data"
    }
   ],
   "source": [
    "# Correlation Matrix Heatmap\n",
    "f, ax = plt.subplots(figsize=(10, 6))\n",
    "corr = df.corr()\n",
    "hm = sns.heatmap(round(corr,2), annot=True, ax=ax, cmap=\"coolwarm\",fmt='.2f',\n",
    "                 linewidths=.05)\n",
    "f.subplots_adjust(top=0.93)\n",
    "t= f.suptitle('Health Condition Attributes Correlation Heatmap', fontsize=14)"
   ]
  },
  {
   "cell_type": "code",
   "execution_count": 6,
   "id": "7e4cd820",
   "metadata": {},
   "outputs": [],
   "source": [
    "# Selecting features and labels\n",
    "features = df[['age','hypertension','heart_disease','bmi','smoking_status','stroke']].to_numpy() # shape (2589,6)\n",
    "labels = df['stroke'].to_numpy() # shape (2589,)"
   ]
  },
  {
   "cell_type": "code",
   "execution_count": 7,
   "id": "5fe11df1",
   "metadata": {},
   "outputs": [],
   "source": [
    "# Splitting data into training set, validation set and testing set\n",
    "X_train, X_rem, y_train, y_rem = train_test_split(features, labels, test_size = 0.30, random_state=43)\n",
    "X_test, X_val, y_test, y_val = train_test_split(X_rem, y_rem,test_size = 0.15, random_state=43)\n"
   ]
  },
  {
   "cell_type": "code",
   "execution_count": 8,
   "id": "443c7160",
   "metadata": {},
   "outputs": [],
   "source": [
    "# Method 1: Logistic Regression\n",
    "clf_1 = LogisticRegression()\n",
    "clf_1.fit(X_train,y_train)\n",
    "\n",
    "# compute predicted labels for training and validation set\n",
    "y_pred_train_log = clf_1.predict(X_train) \n",
    "y_pred_val_log = clf_1.predict(X_val)"
   ]
  },
  {
   "cell_type": "code",
   "execution_count": 9,
   "id": "c72c2345",
   "metadata": {},
   "outputs": [
    {
     "data": {
      "image/png": "[encoded data removed]",
      "text/plain": [
       "<Figure size 432x288 with 2 Axes>"
      ]
     },
     "metadata": {
      "needs_background": "light"
     },
     "output_type": "display_data"
    }
   ],
   "source": [
    "# confusion matrix\n",
    "confmat_log = confusion_matrix(y_train, y_pred_train_log)\n",
    "\n",
    "# plot the confusion matrix\n",
    "ax = plt.subplot()\n",
    "sns.heatmap(confmat_log,annot=True, fmt='g', ax=ax)\n",
    "ax.set_title('Logistic Regression Confusion Matrix\\n',fontsize=15)\n",
    "ax.set_xlabel('Predicted labels',fontsize=15)\n",
    "ax.set_ylabel('True labels',fontsize=15)\n",
    "plt.show()"
   ]
  },
  {
   "cell_type": "code",
   "execution_count": 10,
   "id": "f1ad094a",
   "metadata": {},
   "outputs": [
    {
     "name": "stdout",
     "output_type": "stream",
     "text": [
      "9.992007221626413e-16\n",
      "9.992007221626413e-16\n"
     ]
    }
   ],
   "source": [
    "# Logistic loss for training and validation data\n",
    "loss_train = log_loss(y_train, y_pred_train_log)\n",
    "loss_val = log_loss(y_val, y_pred_val_log)\n",
    "print(loss_train)\n",
    "print(loss_val)"
   ]
  },
  {
   "cell_type": "code",
   "execution_count": 11,
   "id": "8f95c9f8",
   "metadata": {},
   "outputs": [],
   "source": [
    "# Method 2: Multilayer perceptron (MLP)\n",
    "mlp_regr = MLPRegressor(activation = 'logistic', random_state=42, max_iter=1000) # Sigmoid function (logistic) used as activation function\n",
    "mlp_regr.fit(X_train,y_train)    # Train MLP on the training set\n",
    "\n",
    "## evaluate the trained MLP on both training set and validation set\n",
    "y_pred_train_mlp = mlp_regr.predict(X_train)    # predict on the training set\n",
    "y_pred_val_mlp = mlp_regr.predict(X_val) # predict values for the validation data "
   ]
  },
  {
   "cell_type": "code",
   "execution_count": 12,
   "id": "76b2e487",
   "metadata": {},
   "outputs": [
    {
     "name": "stdout",
     "output_type": "stream",
     "text": [
      "0.0002738068349228482\n",
      "0.00024375237395388673\n"
     ]
    }
   ],
   "source": [
    "# Training and Validation errors for MLP using Mean Squared Error functions\n",
    "MSE_train = mean_squared_error(y_train, y_pred_train_mlp)    # training error\n",
    "MSE_val = mean_squared_error(y_val, y_pred_val_mlp)       # validation error\n",
    "print(MSE_train)\n",
    "print(MSE_val)"
   ]
  },
  {
   "cell_type": "code",
   "execution_count": 13,
   "id": "8c3d7763",
   "metadata": {},
   "outputs": [
    {
     "name": "stdout",
     "output_type": "stream",
     "text": [
      "0.0005757804534356\n"
     ]
    }
   ],
   "source": [
    "# Training error for chosen model, method #2 (MLP)\n",
    "y_pred_test_mlp = mlp_regr.predict(X_test)\n",
    "MSE_test = mean_squared_error(y_test, y_pred_test_mlp) \n",
    "print(MSE_test)"
   ]
  }
 ],
 "metadata": {
  "kernelspec": {
   "display_name": "Python 3",
   "language": "python",
   "name": "python3"
  },
  "language_info": {
   "codemirror_mode": {
    "name": "ipython",
    "version": 3
   },
   "file_extension": ".py",
   "mimetype": "text/x-python",
   "name": "python",
   "nbconvert_exporter": "python",
   "pygments_lexer": "ipython3",
   "version": "3.9.5"
  }
 },
 "nbformat": 4,
 "nbformat_minor": 5
}
